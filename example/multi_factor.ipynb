{
 "cells": [
  {
   "cell_type": "markdown",
   "metadata": {},
   "source": [
    "架构顺序\n",
    "- 安装依赖库\n",
    "- 数据获取\n",
    "- 因子计算\n",
    "- 选股策略\n",
    "- 回测系统\n",
    "- 模拟实盘交易系统\n",
    "- 交易管理和资金管理"
   ]
  },
  {
   "cell_type": "markdown",
   "metadata": {},
   "source": [
    "数据获取\n",
    "- 我们利用 AKShare 来获取 A 股的基本面和市场数据。获取股票的历史行情数据和财务因子是基础步骤。"
   ]
  },
  {
   "cell_type": "code",
   "execution_count": null,
   "metadata": {},
   "outputs": [],
   "source": [
    "import akshare as ak\n",
    "import pandas as pd\n",
    "\n",
    "# 获取所有A股股票代码及名称\n",
    "stock_df = ak.stock_info_a_code_name()\n",
    "\n",
    "# 获取单只股票的历史数据\n",
    "def get_stock_history(stock_code, start_date, end_date):\n",
    "    stock_data = ak.stock_zh_a_hist(symbol=stock_code, period=\"daily\", start_date=start_date, end_date=end_date, adjust=\"qfq\")\n",
    "    stock_data['date'] = pd.to_datetime(stock_data['日期'])\n",
    "    stock_data.set_index('date', inplace=True)\n",
    "    return stock_data[['开盘', '收盘', '最高', '最低', '成交量']]\n",
    "\n",
    "# 获取股票的财务因子数据\n",
    "def get_financial_data(stock_code):\n",
    "    return ak.stock_financial_analysis_indicator(symbol=stock_code)\n",
    "\n",
    "# 示例：获取贵州茅台的历史行情和财务数据\n",
    "stock_code = '600519'\n",
    "start_date = '2023-01-01'\n",
    "end_date = '2023-12-31'\n",
    "stock_data = get_stock_history(stock_code, start_date, end_date)\n",
    "financial_data = get_financial_data(stock_code)"
   ]
  },
  {
   "cell_type": "markdown",
   "metadata": {},
   "source": [
    "因子计算\n",
    "- 通过提取关键的财务和市场因子（如市盈率 PE、市净率 PB、股息率等），形成多因子模型。"
   ]
  },
  {
   "cell_type": "code",
   "execution_count": null,
   "metadata": {},
   "outputs": [],
   "source": [
    "# 计算多因子\n",
    "def calculate_factors(stock_code, start_date, end_date):\n",
    "    stock_data = get_stock_history(stock_code, start_date, end_date)\n",
    "    financial_data = get_financial_data(stock_code)\n",
    "    \n",
    "    # 提取 PE、PB、股息率等因子\n",
    "    pe = financial_data[financial_data['指标名称'] == '市盈率'][['报告日期', '最新值']]\n",
    "    pb = financial_data[financial_data['指标名称'] == '市净率'][['报告日期', '最新值']]\n",
    "    dividend_yield = financial_data[financial_data['指标名称'] == '股息率(%)'][['报告日期', '最新值']]\n",
    "    \n",
    "    # 合并因子数据\n",
    "    factors = pd.merge(pe, pb, on='报告日期', suffixes=('_pe', '_pb'))\n",
    "    factors = pd.merge(factors, dividend_yield, on='报告日期')\n",
    "    factors.columns = ['report_date', 'PE', 'PB', 'DividendYield']\n",
    "    factors['report_date'] = pd.to_datetime(factors['report_date'])\n",
    "    \n",
    "    return factors\n",
    "\n",
    "factors = calculate_factors(stock_code, start_date, end_date)"
   ]
  },
  {
   "cell_type": "markdown",
   "metadata": {},
   "source": [
    "选股策略\n",
    "- 根据计算的因子来选股，例如选取低 PE、低 PB 和高股息率的股票。"
   ]
  },
  {
   "cell_type": "code",
   "execution_count": null,
   "metadata": {},
   "outputs": [],
   "source": [
    "def stock_selection(factors):\n",
    "    # 筛选低PE、低PB、高股息的股票\n",
    "    selected_stocks = factors[(factors['PE'] < factors['PE'].quantile(0.3)) &\n",
    "                              (factors['PB'] < factors['PB'].quantile(0.3)) &\n",
    "                              (factors['DividendYield'] > factors['DividendYield'].quantile(0.7))]\n",
    "    return selected_stocks\n",
    "\n",
    "# 根据因子筛选股票\n",
    "selected_stocks = stock_selection(factors)"
   ]
  },
  {
   "cell_type": "markdown",
   "metadata": {},
   "source": [
    "回测系统\n",
    "- 使用 backtrader 进行历史数据的回测。回测将验证策略在历史数据上的表现。"
   ]
  },
  {
   "cell_type": "code",
   "execution_count": null,
   "metadata": {},
   "outputs": [],
   "source": [
    "import backtrader as bt\n",
    "\n",
    "# 自定义回测策略\n",
    "class MultiFactorStrategy(bt.Strategy):\n",
    "    def next(self):\n",
    "        # 示例：简单买卖逻辑\n",
    "        if not self.position:  # 没有持仓时\n",
    "            if some_buy_condition:  # 可结合因子策略\n",
    "                self.buy()\n",
    "        else:\n",
    "            if some_sell_condition:\n",
    "                self.sell()\n",
    "\n",
    "# 设置回测\n",
    "cerebro = bt.Cerebro()\n",
    "\n",
    "# 添加策略\n",
    "cerebro.addstrategy(MultiFactorStrategy)\n",
    "\n",
    "# 添加数据\n",
    "for stock in selected_stocks:\n",
    "    data = bt.feeds.PandasData(dataname=get_stock_history(stock, start_date, end_date))\n",
    "    cerebro.adddata(data)\n",
    "\n",
    "# 设置初始资金\n",
    "cerebro.broker.setcash(1000000.0)\n",
    "\n",
    "# 设置佣金\n",
    "cerebro.broker.setcommission(commission=0.001)\n",
    "\n",
    "# 运行回测\n",
    "cerebro.run()\n",
    "\n",
    "# 回测结果可视化\n",
    "cerebro.plot()\n"
   ]
  },
  {
   "cell_type": "markdown",
   "metadata": {},
   "source": [
    "模拟实盘交易系统\n",
    "- 模拟实盘交易系统通过定时任务获取实时数据，并根据策略实时买卖股票。"
   ]
  },
  {
   "cell_type": "code",
   "execution_count": null,
   "metadata": {},
   "outputs": [],
   "source": [
    "import time\n",
    "import schedule\n",
    "\n",
    "# 获取实时行情数据\n",
    "def get_realtime_data(stock_code):\n",
    "    realtime_data = ak.stock_zh_a_spot_em()\n",
    "    return realtime_data[realtime_data['代码'] == stock_code]\n",
    "\n",
    "# 实盘交易策略\n",
    "class RealTimeMultiFactorStrategy(bt.Strategy):\n",
    "    def next(self):\n",
    "        stock_code = '600519'\n",
    "        current_price = get_realtime_data(stock_code)\n",
    "        \n",
    "        if not self.position:\n",
    "            if self.buy_condition(current_price):\n",
    "                self.buy()\n",
    "        else:\n",
    "            if self.sell_condition(current_price):\n",
    "                self.sell()\n",
    "\n",
    "    def buy_condition(self, price):\n",
    "        # 示例买入条件\n",
    "        return price['最新价'].values[0] < price['昨收'].values[0] * 0.95\n",
    "\n",
    "    def sell_condition(self, price):\n",
    "        return price['最新价'].values[0] > price['昨收'].values[0] * 1.05\n",
    "\n",
    "# 每天模拟交易\n",
    "schedule.every().day.at(\"09:30\").do(run_backtest)\n",
    "\n",
    "while True:\n",
    "    schedule.run_pending()\n",
    "    time.sleep(60)\n"
   ]
  },
  {
   "cell_type": "markdown",
   "metadata": {},
   "source": [
    "资金管理和风险控制\n",
    "- 加入止损、止盈、仓位管理等机制，确保策略能够更接近实际交易中的风控需求。"
   ]
  },
  {
   "cell_type": "code",
   "execution_count": null,
   "metadata": {},
   "outputs": [],
   "source": [
    "class RiskManagementStrategy(bt.Strategy):\n",
    "    params = (('stop_loss', 0.05),  # 5% 止损\n",
    "              ('take_profit', 0.10))  # 10% 止盈\n",
    "\n",
    "    def next(self):\n",
    "        stock_code = '600519'\n",
    "        current_price = get_realtime_data(stock_code)\n",
    "        \n",
    "        if not self.position:\n",
    "            if self.buy_condition(current_price):\n",
    "                self.buy(size=self.broker.getvalue() * 0.05 / current_price['最新价'].values[0])\n",
    "        else:\n",
    "            current_profit = (self.data_close[0] - self.position.price) / self.position.price\n",
    "            if current_profit <= -self.params.stop_loss:\n",
    "                self.sell()\n",
    "            elif current_profit >= self.params.take_profit:\n",
    "                self.sell()"
   ]
  }
 ],
 "metadata": {
  "kernelspec": {
   "display_name": "Python 3",
   "language": "python",
   "name": "python3"
  },
  "language_info": {
   "codemirror_mode": {
    "name": "ipython",
    "version": 3
   },
   "file_extension": ".py",
   "mimetype": "text/x-python",
   "name": "python",
   "nbconvert_exporter": "python",
   "pygments_lexer": "ipython3",
   "version": "3.9.5"
  }
 },
 "nbformat": 4,
 "nbformat_minor": 2
}
